{
 "cells": [
  {
   "cell_type": "code",
   "execution_count": 1,
   "metadata": {},
   "outputs": [],
   "source": [
    "import numpy as np\n",
    "from numpy.matlib import repmat\n",
    "import pandas as pd\n",
    "import cv2"
   ]
  },
  {
   "cell_type": "code",
   "execution_count": 2,
   "metadata": {},
   "outputs": [],
   "source": [
    "im = cv2.imread(\"stars.jpg\")"
   ]
  },
  {
   "cell_type": "code",
   "execution_count": 3,
   "metadata": {},
   "outputs": [],
   "source": [
    "arr1 = np.concatenate([im[i] for i in range(len(im))])\n",
    "arr2 = arr1.astype(int)"
   ]
  },
  {
   "cell_type": "code",
   "execution_count": 7,
   "metadata": {},
   "outputs": [],
   "source": [
    "N = len(arr2)\n",
    "rndinds = np.random.permutation(N)\n",
    "Kmus = arr2[rndinds[:2]]"
   ]
  },
  {
   "cell_type": "code",
   "execution_count": 8,
   "metadata": {},
   "outputs": [],
   "source": [
    "maxiters = 20"
   ]
  },
  {
   "cell_type": "code",
   "execution_count": 3,
   "metadata": {},
   "outputs": [],
   "source": [
    "def calc_dist(X, Kmus):\n",
    "    diff_arr1 = X - Kmus[0]\n",
    "    diff_arr1_sq = diff_arr1**2\n",
    "    sq_distance1 = np.sum(diff_arr1_sq, axis = 1)\n",
    "    diff_arr2 = X - Kmus[1]\n",
    "    diff_arr2_sq = diff_arr2**2\n",
    "    sq_distance2 = np.sum(diff_arr2_sq, axis = 1)\n",
    "    #diff_arr3 = X - Kmus[2]\n",
    "    #diff_arr3_sq = diff_arr3**2\n",
    "    #sq_distance3 = np.sum(diff_arr3_sq, axis = 1)\n",
    "    return np.array([sq_distance1, sq_distance2])"
   ]
  },
  {
   "cell_type": "code",
   "execution_count": 4,
   "metadata": {},
   "outputs": [],
   "source": [
    "def determineRnk(sq_dist):\n",
    "    rank1 = (sq_dist[0] >= sq_dist[1])*1\n",
    "    rank2 = (sq_dist[1] > sq_dist[0])*1\n",
    "    #rank3 = ((sq_dist[2] > sq_dist[0]) & (sq_dist[2] > sq_dist[1]))*1\n",
    "    return rank1, rank2"
   ]
  },
  {
   "cell_type": "code",
   "execution_count": 5,
   "metadata": {},
   "outputs": [],
   "source": [
    "def recalcMus(X, Rnk):\n",
    "    mean1 = np.array([np.mean(X[:,0] * Rnk[0]), np.mean(X[:,1] * Rnk[0]), np.mean(X[:,2] * Rnk[0])])\n",
    "    mean2 = np.array([np.mean(X[:,0] * Rnk[1]), np.mean(X[:,1] * Rnk[1]), np.mean(X[:,2] * Rnk[1])])\n",
    "    #mean3 = np.array([np.mean(X[:,0] * Rnk[2]), np.mean(X[:,1] * Rnk[2]), np.mean(X[:,2] * Rnk[2])])\n",
    "    return np.array([mean1, mean2])"
   ]
  },
  {
   "cell_type": "code",
   "execution_count": 9,
   "metadata": {},
   "outputs": [
    {
     "data": {
      "text/plain": [
       "(array([0, 0, 0, ..., 0, 0, 0]), array([1, 1, 1, ..., 1, 1, 1]))"
      ]
     },
     "execution_count": 9,
     "metadata": {},
     "output_type": "execute_result"
    }
   ],
   "source": [
    "sqDmat = calc_dist(arr2, Kmus)\n",
    "Rnk = determineRnk(sqDmat)\n",
    "Rnk"
   ]
  },
  {
   "cell_type": "code",
   "execution_count": 10,
   "metadata": {},
   "outputs": [],
   "source": [
    "for iter in range(maxiters):\n",
    "    sqDmat = calc_dist(arr2, Kmus)\n",
    "    Rnk = determineRnk(sqDmat)\n",
    "    KmusOld = Kmus\n",
    "    Kmus = recalcMus(arr2, Rnk)\n",
    "    if sum(abs(KmusOld.flatten() - Kmus.flatten())) < 1e-6:\n",
    "        break"
   ]
  },
  {
   "cell_type": "code",
   "execution_count": 12,
   "metadata": {},
   "outputs": [],
   "source": [
    "rnk_lst = list(Rnk[0])\n",
    "island = np.reshape(rnk_lst, (3734, 3000))\n",
    "sharp_island = island*255\n",
    "X = np.zeros((3734, 3000, 3))\n",
    "X[:,:,0] = sharp_island\n",
    "X[:,:,1] = sharp_island\n",
    "X[:,:,2] = sharp_island"
   ]
  },
  {
   "cell_type": "code",
   "execution_count": 13,
   "metadata": {},
   "outputs": [
    {
     "data": {
      "text/plain": [
       "True"
      ]
     },
     "execution_count": 13,
     "metadata": {},
     "output_type": "execute_result"
    }
   ],
   "source": [
    "cv2.imwrite(\"sharp_star_test.jpg\", X)"
   ]
  },
  {
   "cell_type": "code",
   "execution_count": 15,
   "metadata": {},
   "outputs": [
    {
     "data": {
      "text/plain": [
       "(3734, 3000, 3)"
      ]
     },
     "execution_count": 15,
     "metadata": {},
     "output_type": "execute_result"
    }
   ],
   "source": [
    "im.shape"
   ]
  },
  {
   "cell_type": "code",
   "execution_count": 35,
   "metadata": {},
   "outputs": [],
   "source": [
    "def img_classify(im):\n",
    "    arr1 = np.concatenate([im[i] for i in range(len(im))])\n",
    "    arr2 = arr1.astype(int)\n",
    "    N = len(arr2)\n",
    "    rndinds = np.random.permutation(N)\n",
    "    Kmus = arr2[rndinds[:2]]\n",
    "    maxiters = 20\n",
    "    sqDmat = calc_dist(arr2, Kmus)\n",
    "    Rnk = determineRnk(sqDmat)\n",
    "    for iter in range(maxiters):\n",
    "        sqDmat = calc_dist(arr2, Kmus)\n",
    "        Rnk = determineRnk(sqDmat)\n",
    "        KmusOld = Kmus\n",
    "        Kmus = recalcMus(arr2, Rnk)\n",
    "        if sum(abs(KmusOld.flatten() - Kmus.flatten())) < 1e-6:\n",
    "            break\n",
    "    rnk_lst = list(Rnk[1])\n",
    "    island = np.reshape(rnk_lst, (im.shape[0], im.shape[1]))\n",
    "    sharp_island = island*255\n",
    "    X = np.zeros((im.shape[0], im.shape[1], 3))\n",
    "    X[:,:,0] = sharp_island\n",
    "    X[:,:,1] = sharp_island\n",
    "    X[:,:,2] = sharp_island\n",
    "    cv2.imwrite(\"sharp_star_test.jpg\", X)\n",
    "    return X"
   ]
  },
  {
   "cell_type": "code",
   "execution_count": 19,
   "metadata": {},
   "outputs": [],
   "source": [
    "img_classify(im)"
   ]
  },
  {
   "cell_type": "code",
   "execution_count": 36,
   "metadata": {},
   "outputs": [],
   "source": [
    "## 局部 K-means 方法试探\n",
    "out = np.zeros((3734, 3000, 3))\n",
    "i = 0\n",
    "j = 0\n",
    "while i + 374 <= 3740:\n",
    "    while j + 300 <= 3000:\n",
    "        sub_img = im[i:i+374,j:j+300,:]\n",
    "        sharp_sub_img = img_classify(sub_img)\n",
    "        out[i:i+374,j:j+300,0] = sharp_sub_img[:,:,0]\n",
    "        out[i:i+374,j:j+300,1] = sharp_sub_img[:,:,1]\n",
    "        out[i:i+374,j:j+300,2] = sharp_sub_img[:,:,2]\n",
    "        j = j + 300\n",
    "    i = i + 374"
   ]
  },
  {
   "cell_type": "code",
   "execution_count": 14,
   "metadata": {},
   "outputs": [
    {
     "data": {
      "text/plain": [
       "(3734, 3000, 3)"
      ]
     },
     "execution_count": 14,
     "metadata": {},
     "output_type": "execute_result"
    }
   ],
   "source": [
    "im.shape"
   ]
  },
  {
   "cell_type": "code",
   "execution_count": 40,
   "metadata": {},
   "outputs": [
    {
     "data": {
      "text/plain": [
       "True"
      ]
     },
     "execution_count": 40,
     "metadata": {},
     "output_type": "execute_result"
    }
   ],
   "source": [
    "cv2.imwrite(\"sharp_star_test.jpg\", sharp_sub_img)"
   ]
  },
  {
   "cell_type": "code",
   "execution_count": 39,
   "metadata": {},
   "outputs": [],
   "source": [
    "sub_img = im[0:374,0:300,:]\n",
    "sharp_sub_img = img_classify(sub_img)"
   ]
  },
  {
   "cell_type": "code",
   "execution_count": 41,
   "metadata": {},
   "outputs": [
    {
     "data": {
      "text/plain": [
       "True"
      ]
     },
     "execution_count": 41,
     "metadata": {},
     "output_type": "execute_result"
    }
   ],
   "source": [
    "cv2.imwrite(\"sharp_star_test1.jpg\", sub_img)"
   ]
  },
  {
   "cell_type": "code",
   "execution_count": 6,
   "metadata": {},
   "outputs": [
    {
     "data": {
      "text/plain": [
       "(374, 300, 3)"
      ]
     },
     "execution_count": 6,
     "metadata": {},
     "output_type": "execute_result"
    }
   ],
   "source": [
    "sub_img = im[0:374,0:300,:]\n",
    "sub_img.shape"
   ]
  },
  {
   "cell_type": "code",
   "execution_count": 11,
   "metadata": {},
   "outputs": [],
   "source": [
    "meanR = sub_img[:, :, 0].mean()\n",
    "meanG = sub_img[:, :, 1].mean()\n",
    "meanB = sub_img[:, :, 2].mean()\n",
    "stdR = sub_img[:, :, 0].std()\n",
    "stdG = sub_img[:, :, 1].std()\n",
    "stdB = sub_img[:, :, 2].std()"
   ]
  },
  {
   "cell_type": "code",
   "execution_count": 29,
   "metadata": {},
   "outputs": [],
   "source": [
    "R_thres = meanR + 5*stdR\n",
    "G_thres = meanG + 5*stdG\n",
    "B_thres = meanB + 5*stdB"
   ]
  },
  {
   "cell_type": "code",
   "execution_count": 30,
   "metadata": {},
   "outputs": [],
   "source": [
    "island = (sub_img[:, :, 0] >= R_thres) * (sub_img[:, :, 1] >= G_thres) * (sub_img[:, :, 2] >= B_thres) * 1"
   ]
  },
  {
   "cell_type": "code",
   "execution_count": 31,
   "metadata": {},
   "outputs": [],
   "source": [
    "sharp_island = island*255"
   ]
  },
  {
   "cell_type": "code",
   "execution_count": 32,
   "metadata": {},
   "outputs": [],
   "source": [
    "X = np.zeros((sub_img.shape[0], sub_img.shape[1], 3))\n",
    "X[:,:,0] = sharp_island\n",
    "X[:,:,1] = sharp_island\n",
    "X[:,:,2] = sharp_island"
   ]
  },
  {
   "cell_type": "code",
   "execution_count": 33,
   "metadata": {},
   "outputs": [
    {
     "data": {
      "text/plain": [
       "True"
      ]
     },
     "execution_count": 33,
     "metadata": {},
     "output_type": "execute_result"
    }
   ],
   "source": [
    "cv2.imwrite(\"sharp_star_test2.jpg\", X)"
   ]
  },
  {
   "cell_type": "code",
   "execution_count": 46,
   "metadata": {},
   "outputs": [],
   "source": [
    "def img_sharp(sub_img):\n",
    "    meanR = sub_img[:, :, 0].mean()\n",
    "    meanG = sub_img[:, :, 1].mean()\n",
    "    meanB = sub_img[:, :, 2].mean()\n",
    "    stdR = sub_img[:, :, 0].std()\n",
    "    stdG = sub_img[:, :, 1].std()\n",
    "    stdB = sub_img[:, :, 2].std()\n",
    "    R_thres = meanR + 5*stdR\n",
    "    G_thres = meanG + 5*stdG\n",
    "    B_thres = meanB + 5*stdB\n",
    "    island = (sub_img[:, :, 0] >= R_thres) * (sub_img[:, :, 1] >= G_thres) * (sub_img[:, :, 2] >= B_thres) * 1\n",
    "    sharp_island = island*255\n",
    "    X = np.zeros((sub_img.shape[0], sub_img.shape[1], 3))\n",
    "    X[:,:,0] = sharp_island\n",
    "    X[:,:,1] = sharp_island\n",
    "    X[:,:,2] = sharp_island\n",
    "    return X"
   ]
  },
  {
   "cell_type": "code",
   "execution_count": 43,
   "metadata": {},
   "outputs": [],
   "source": [
    "im = cv2.imread(\"stars.jpg\")"
   ]
  },
  {
   "cell_type": "code",
   "execution_count": 47,
   "metadata": {},
   "outputs": [],
   "source": [
    "## 局部 outlier 方法试探\n",
    "out = np.zeros((3734, 3000, 3))\n",
    "i = 0\n",
    "j = 0\n",
    "while i + 374 <= 3740:\n",
    "    while j + 300 <= 3000:\n",
    "        sub_img = im[i:i+374,j:j+300,:]\n",
    "        sharp_sub_img = img_sharp(sub_img)\n",
    "        out[i:i+374,j:j+300,0] = sharp_sub_img[:,:,0]\n",
    "        out[i:i+374,j:j+300,1] = sharp_sub_img[:,:,1]\n",
    "        out[i:i+374,j:j+300,2] = sharp_sub_img[:,:,2]\n",
    "        j = j + 300\n",
    "    i = i + 374\n",
    "    j = 0"
   ]
  },
  {
   "cell_type": "code",
   "execution_count": 48,
   "metadata": {},
   "outputs": [
    {
     "data": {
      "text/plain": [
       "True"
      ]
     },
     "execution_count": 48,
     "metadata": {},
     "output_type": "execute_result"
    }
   ],
   "source": [
    "cv2.imwrite(\"sharp_star_test3.jpg\", out)"
   ]
  },
  {
   "cell_type": "code",
   "execution_count": 49,
   "metadata": {},
   "outputs": [],
   "source": [
    "islands = out[:,:,0]/255"
   ]
  },
  {
   "cell_type": "code",
   "execution_count": 62,
   "metadata": {},
   "outputs": [
    {
     "data": {
      "text/plain": [
       "array([[0., 0., 0., 0., 0., 0., 0., 0., 0., 0., 0., 0., 0., 0., 0., 0.,\n",
       "        0., 0., 0., 1., 1., 0., 0., 0., 0., 0., 0., 0., 0., 0.],\n",
       "       [0., 0., 0., 0., 0., 0., 0., 0., 0., 0., 0., 0., 0., 0., 0., 0.,\n",
       "        0., 0., 0., 1., 1., 0., 0., 0., 0., 0., 0., 0., 0., 0.],\n",
       "       [0., 0., 0., 0., 0., 0., 0., 0., 0., 0., 0., 0., 0., 0., 0., 0.,\n",
       "        0., 0., 0., 0., 0., 0., 0., 0., 0., 0., 0., 0., 0., 0.]])"
      ]
     },
     "execution_count": 62,
     "metadata": {},
     "output_type": "execute_result"
    }
   ],
   "source": [
    "islands[0:3, 150:180]"
   ]
  },
  {
   "cell_type": "code",
   "execution_count": 66,
   "metadata": {},
   "outputs": [
    {
     "data": {
      "text/plain": [
       "0.0"
      ]
     },
     "execution_count": 66,
     "metadata": {},
     "output_type": "execute_result"
    }
   ],
   "source": [
    "islands[0][2999]"
   ]
  },
  {
   "cell_type": "code",
   "execution_count": 67,
   "metadata": {},
   "outputs": [],
   "source": [
    "def mark_island(x, i, j):\n",
    "    if i < 0 or i >= x.shape[0]:\n",
    "        return\n",
    "    if j < 0 or j >= x.shape[1]:\n",
    "        return\n",
    "    if x[i][j] == 0 or x[i][j] == 2:\n",
    "        return\n",
    "    if x[i][j] == 1:\n",
    "        x[i][j] = 2\n",
    "        mark_island(x, i+1, j)\n",
    "        mark_island(x, i-1, j)\n",
    "        mark_island(x, i, j+1)\n",
    "        mark_island(x, i, j-1)"
   ]
  },
  {
   "cell_type": "code",
   "execution_count": 74,
   "metadata": {},
   "outputs": [],
   "source": [
    "num_islands = 0\n",
    "for i in range(islands.shape[0]):\n",
    "    for j in range(islands.shape[1]):\n",
    "        if islands[i][j] == 1:\n",
    "            num_islands = num_islands + 1\n",
    "            mark_island(islands, i, j)"
   ]
  },
  {
   "cell_type": "code",
   "execution_count": 75,
   "metadata": {},
   "outputs": [
    {
     "data": {
      "text/plain": [
       "1533"
      ]
     },
     "execution_count": 75,
     "metadata": {},
     "output_type": "execute_result"
    }
   ],
   "source": [
    "num_islands"
   ]
  },
  {
   "cell_type": "code",
   "execution_count": null,
   "metadata": {},
   "outputs": [],
   "source": []
  }
 ],
 "metadata": {
  "kernelspec": {
   "display_name": "Python 3",
   "language": "python",
   "name": "python3"
  },
  "language_info": {
   "codemirror_mode": {
    "name": "ipython",
    "version": 3
   },
   "file_extension": ".py",
   "mimetype": "text/x-python",
   "name": "python",
   "nbconvert_exporter": "python",
   "pygments_lexer": "ipython3",
   "version": "3.7.3"
  }
 },
 "nbformat": 4,
 "nbformat_minor": 4
}
